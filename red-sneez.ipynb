{
 "nbformat": 4,
 "nbformat_minor": 2,
 "metadata": {
  "language_info": {
   "name": "python",
   "codemirror_mode": {
    "name": "ipython",
    "version": 3
   },
   "version": "3.7.1-final"
  },
  "orig_nbformat": 2,
  "file_extension": ".py",
  "mimetype": "text/x-python",
  "name": "python",
  "npconvert_exporter": "python",
  "pygments_lexer": "ipython3",
  "version": 3,
  "kernelspec": {
   "name": "python37132bit87964a01f4c74eea89d45e24a640fd63",
   "display_name": "Python 3.7.1 32-bit"
  }
 },
 "cells": [
  {
   "cell_type": "markdown",
   "execution_count": null,
   "metadata": {},
   "outputs": [],
   "source": [
    "# COVID-19 DEATH RATE INDIA\n",
    "\n",
    "This jupyter book tests the bits of the program which ensembles the \n",
    "data from `Ministry of Health & Family Welfare India` for COVID-19 spread summary\n",
    "\n",
    "STANDARDS\n",
    " - Date_Format  `DD-MM-YYYY`\n",
    " \n",
    "VERSION 1.0\n",
    " - 19 MAR 20220\n",
    " - Base program\n",
    " - column value hardcoded due to heterogenous data"
   ]
  },
  {
   "cell_type": "code",
   "execution_count": 3,
   "metadata": {},
   "outputs": [],
   "source": [
    "# libraries for the soup\n",
    "import pandas as pd     # creating structured data\n",
    "import requests         # fetching the page containing data\n",
    "import re               # dissecting data\n",
    "from bs4 import BeautifulSoup   # parsing the page to ease data extractioin"
   ]
  },
  {
   "cell_type": "code",
   "execution_count": 4,
   "metadata": {},
   "outputs": [
    {
     "name": "stdout",
     "output_type": "stream",
     "text": "Checking connections ... <Response [200]>\nCONN OK\n"
    }
   ],
   "source": [
    "# checking connections\n",
    "try:\n",
    "    url = \"https://www.mohfw.gov.in/\"\n",
    "    response = requests.get(url)\n",
    "    print(\"Checking connections ...\", response)\n",
    "    if len(re.findall('200', str(response))) != 0:\n",
    "        print(\"CONN OK\")\n",
    "    else: \n",
    "        print(\"CONN ERR\\n EXIT\")\n",
    "        quit()\n",
    "except Exception as e:\n",
    "    print(\"Err Establishing Connection, Check connectivity.\")\n",
    "    quit()\n",
    "# parsing retrieved html with beautiful soup\n",
    "crude_data = BeautifulSoup(response.text, 'html.parser')"
   ]
  },
  {
   "cell_type": "code",
   "execution_count": 5,
   "metadata": {},
   "outputs": [
    {
     "name": "stdout",
     "output_type": "stream",
     "text": "<ol dir=\"ltr\" style=\"padding-left: 15px;\">\n<li><p><strong>Total number of passengers screened at airport   :   14,31,734  </strong></p> </li>\n<p><strong>Total number of Active COVID 2019 cases across India *\t:   149</strong></p>\n<p><strong>Total number of Discharged/Cured COVID 2019 cases across India *\t:   19</strong></p>\n<p><strong>Total number of Migrated COVID-19 Patient *\t:   1</strong></p>\n<p><strong>Total number of Deaths due to COVID 2019 across India *\t:   4 </strong></p>\n<p>(*including foreign nationals, as on 19.03.2020 at 05:00 PM)</p>\n<div class=\"table-responsive\">\n<table border=\"1\" cellpadding=\"1\" cellspacing=\"1\" class=\"table table-striped table-dark\">\n<thead class=\"thead-dark\">\n<tr bgcolor=\"#f8f8f8\">\n<th align=\"'centre\" width=\"47\"><strong>S. No.</strong></th>\n<th align=\"'centre\" width=\"83\"><strong>Name of State / UT</strong></th>\n<th align=\"'centre\" width=\"91\"><strong>Total Confirmed cases (Indian National)</strong></th>\n<th align=\"'centre\" width=\"90\"><strong>Total Confirmed cases ( Foreign National )</strong></th>\n<th align=\"'centre\" width=\"83\"><strong>Cured/<br/>Discharged/Migrated</strong></th>\n<th align=\"'centre\" width=\"83\"><strong>Death</strong></th>\n</tr>\n</thead>\n<tbody>\n<tr>\n<td align=\"'centre\" width=\"47\">1</td>\n<td align=\"'centre\" valign=\"bottom\" width=\"83\">Andhra Pradesh</td>\n<td align=\"'centre\" valign=\"bottom\" width=\"91\">2</td>\n<td align=\"'centre\" valign=\"top\" width=\"90\">0</td>\n<td align=\"'centre\" valign=\"top\" width=\"83\">0</td>\n<td align=\"'centre\" valign=\"top\" width=\"83\">0</td>\n</tr>\n<tr>\n<td align=\"'centre\" width=\"47\">2</td>\n<td align=\"'centre\" valign=\"bottom\" width=\"83\">Chattisgarh</td>\n<td align=\"'centre\" valign=\"bottom\" width=\"91\">1</td>\n<td align=\"'centre\" valign=\"top\" width=\"90\">0</td>\n<td align=\"'centre\" valign=\"top\" width=\"83\">0</td>\n<td align=\"'centre\" valign=\"top\" width=\"83\">0</td>\n</tr>\n<tr>\n<td align=\"'centre\" width=\"47\">3</td>\n<td align=\"'centre\" valign=\"bottom\" width=\"83\">Delhi</td>\n<td align=\"'centre\" valign=\"bottom\" width=\"91\">11</td>\n<td align=\"'centre\" valign=\"top\" width=\"90\">1</td>\n<td align=\"'centre\" valign=\"top\" width=\"83\">3</td>\n<td align=\"'centre\" valign=\"top\" width=\"83\">1</td>\n</tr>\n<tr>\n<td align=\"'centre\" width=\"47\">4</td>\n<td align=\"'centre\" valign=\"bottom\" width=\"83\">Haryana</td>\n<td align=\"'centre\" valign=\"bottom\" width=\"91\">3</td>\n<td align=\"'centre\" valign=\"top\" width=\"90\">14</td>\n<td align=\"'centre\" valign=\"bottom\" width=\"83\">0</td>\n<td align=\"'centre\" valign=\"top\" width=\"83\">0</td>\n</tr>\n<tr>\n<td align=\"'centre\" width=\"47\">5</td>\n<td align=\"'centre\" valign=\"bottom\" width=\"83\">Karnataka</td>\n<td align=\"'centre\" valign=\"bottom\" width=\"91\">14</td>\n<td align=\"'centre\" valign=\"top\" width=\"90\">0</td>\n<td align=\"'centre\" valign=\"top\" width=\"83\">0</td>\n<td align=\"'centre\" valign=\"top\" width=\"83\">1</td>\n</tr>\n<tr>\n<td align=\"'centre\" width=\"47\">6</td>\n<td align=\"'centre\" valign=\"bottom\" width=\"83\">Kerala</td>\n<td align=\"'centre\" valign=\"bottom\" width=\"91\">25</td>\n<td align=\"'centre\" valign=\"top\" width=\"90\">2</td>\n<td align=\"'centre\" valign=\"top\" width=\"83\">3</td>\n<td align=\"'centre\" valign=\"top\" width=\"83\">0</td>\n</tr>\n<tr>\n<td align=\"'centre\" width=\"47\">7</td>\n<td align=\"'centre\" valign=\"bottom\" width=\"83\">Maharashtra</td>\n<td align=\"'centre\" valign=\"bottom\" width=\"91\">44</td>\n<td align=\"'centre\" valign=\"top\" width=\"90\">3</td>\n<td align=\"'centre\" valign=\"top\" width=\"83\">0</td>\n<td align=\"'centre\" valign=\"top\" width=\"83\">1</td>\n</tr>\n<tr>\n<td align=\"'centre\" width=\"47\">8</td>\n<td align=\"'centre\" valign=\"bottom\" width=\"83\">Odisha</td>\n<td align=\"'centre\" valign=\"bottom\" width=\"91\">1</td>\n<td align=\"'centre\" valign=\"top\" width=\"90\">0</td>\n<td align=\"'centre\" valign=\"top\" width=\"83\">0</td>\n<td align=\"'centre\" valign=\"top\" width=\"83\">0</td>\n</tr>\n<tr>\n<td align=\"'centre\" width=\"47\">9</td>\n<td align=\"'centre\" valign=\"bottom\" width=\"83\">Pondicherry</td>\n<td align=\"'centre\" valign=\"bottom\" width=\"91\">1</td>\n<td align=\"'centre\" valign=\"top\" width=\"90\">0</td>\n<td align=\"'centre\" valign=\"top\" width=\"83\">0</td>\n<td align=\"'centre\" valign=\"top\" width=\"83\">0</td>\n</tr>\n<tr>\n<td align=\"'centre\" width=\"47\">10</td>\n<td align=\"'centre\" valign=\"bottom\" width=\"83\">Punjab</td>\n<td align=\"'centre\" valign=\"bottom\" width=\"91\">2</td>\n<td align=\"'centre\" valign=\"top\" width=\"90\">0</td>\n<td align=\"'centre\" valign=\"top\" width=\"83\">0</td>\n<td align=\"'centre\" valign=\"top\" width=\"83\">1</td>\n</tr>\n<tr>\n<td align=\"'centre\" width=\"47\">11</td>\n<td align=\"'centre\" valign=\"bottom\" width=\"83\">Rajasthan</td>\n<td align=\"'centre\" valign=\"bottom\" width=\"91\">5</td>\n<td align=\"'centre\" valign=\"top\" width=\"90\">2</td>\n<td align=\"'centre\" valign=\"top\" width=\"83\">3</td>\n<td align=\"'centre\" valign=\"top\" width=\"83\">0</td>\n</tr>\n<tr>\n<td align=\"'centre\" width=\"47\">12</td>\n<td align=\"'centre\" valign=\"bottom\" width=\"83\">Tamil Nadu</td>\n<td align=\"'centre\" valign=\"bottom\" width=\"91\">2</td>\n<td align=\"'centre\" valign=\"top\" width=\"90\">0</td>\n<td align=\"'centre\" valign=\"top\" width=\"83\">1</td>\n<td align=\"'centre\" valign=\"top\" width=\"83\">0</td>\n</tr>\n<tr>\n<td align=\"'centre\" width=\"47\">13</td>\n<td align=\"'centre\" valign=\"bottom\" width=\"83\">Telengana</td>\n<td align=\"'centre\" valign=\"bottom\" width=\"91\">4</td>\n<td align=\"'centre\" valign=\"top\" width=\"90\">2</td>\n<td align=\"'centre\" valign=\"top\" width=\"83\">1</td>\n<td align=\"'centre\" valign=\"top\" width=\"83\">0</td>\n</tr>\n<tr>\n<td align=\"'centre\" width=\"47\">14</td>\n<td align=\"'centre\" valign=\"bottom\" width=\"83\">Union Territory of Chandigarh</td>\n<td align=\"'centre\" valign=\"bottom\" width=\"91\">1</td>\n<td align=\"'centre\" valign=\"top\" width=\"90\">0</td>\n<td align=\"'centre\" valign=\"top\" width=\"83\">0</td>\n<td align=\"'centre\" valign=\"top\" width=\"90\">0</td>\n</tr>\n<tr>\n<td align=\"'centre\" width=\"47\">15</td>\n<td align=\"'centre\" valign=\"bottom\" width=\"83\">Union Territory of Jammu and Kashmir</td>\n<td align=\"'centre\" valign=\"bottom\" width=\"91\">4</td>\n<td align=\"'centre\" valign=\"top\" width=\"90\">0</td>\n<td align=\"'centre\" valign=\"top\" width=\"83\">0</td>\n<td align=\"'centre\" valign=\"top\" width=\"90\">0</td>\n</tr>\n<tr>\n<td align=\"'centre\" width=\"47\">16</td>\n<td align=\"'centre\" valign=\"bottom\" width=\"83\">Union Territory of Ladakh</td>\n<td align=\"'centre\" valign=\"bottom\" width=\"91\">8</td>\n<td align=\"'centre\" valign=\"top\" width=\"90\">0</td>\n<td align=\"'centre\" valign=\"top\" width=\"83\">0</td>\n<td align=\"'centre\" valign=\"top\" width=\"83\">0</td>\n</tr>\n<tr>\n<td align=\"'centre\" width=\"47\">17</td>\n<td align=\"'centre\" valign=\"bottom\" width=\"83\">Uttar Pradesh</td>\n<td align=\"'centre\" valign=\"bottom\" width=\"91\">18</td>\n<td align=\"'centre\" valign=\"top\" width=\"90\">1</td>\n<td align=\"'centre\" valign=\"top\" width=\"83\">9</td>\n<td align=\"'centre\" valign=\"top\" width=\"83\">0</td>\n</tr>\n<tr>\n<td align=\"'centre\" width=\"47\">18</td>\n<td align=\"'centre\" valign=\"bottom\" width=\"83\">Uttarakhand</td>\n<td align=\"'centre\" valign=\"bottom\" width=\"91\">1</td>\n<td align=\"'centre\" valign=\"top\" width=\"90\">0</td>\n<td align=\"'centre\" valign=\"top\" width=\"83\">0</td>\n<td align=\"'centre\" valign=\"top\" width=\"83\">0</td>\n</tr>\n<tr>\n<td align=\"'centre\" width=\"47\">19</td>\n<td align=\"'centre\" valign=\"bottom\" width=\"83\">West Bengal</td>\n<td align=\"'centre\" valign=\"bottom\" width=\"91\">1</td>\n<td align=\"'centre\" valign=\"top\" width=\"90\">0</td>\n<td align=\"'centre\" valign=\"top\" width=\"83\">0</td>\n<td align=\"'centre\" valign=\"top\" width=\"83\">0</td>\n</tr>\n<tr>\n<td align=\"'centre\" colspan=\"2\" height=\"61\" valign=\"bottom\"><strong>Total number of confirmed cases in India</strong></td>\n<td align=\"'centre\" valign=\"bottom\" width=\"91\"><strong>148</strong></td>\n<td align=\"'centre\" valign=\"top\" width=\"90\">\n<strong>25</strong>\n</td>\n<td align=\"'centre\" valign=\"top\" width=\"83\">\n<strong>20</strong>\n</td>\n<td align=\"'centre\" valign=\"top\" width=\"83\">\n<strong>4</strong>\n</td>\n</tr>\n</tbody>\n</table>\n</div>\n</ol>\n"
    }
   ],
   "source": [
    "# Section last inspected date 19-03-2020\n",
    "section = crude_data.findAll('ol', attrs = {'dir': 'ltr'})[0]\n",
    "section"
   ]
  },
  {
   "cell_type": "markdown",
   "metadata": {},
   "source": [
    "![ref img: /log/screenshots](data_src_19_03_2020.png)"
   ]
  },
  {
   "cell_type": "markdown",
   "execution_count": null,
   "metadata": {},
   "outputs": [],
   "source": [
    "## 1. Extracting META INFO\n",
    "\n",
    ">each `META_DATA` set:\n",
    "- Total number of passengers screened at airport\n",
    "- Total number of Active COVID 2019 cases across India\n",
    "- Total number of Discharged/Cured COVID 2019 cases across India\n",
    "- Total number of Migrated COVID-19 Patient\n",
    "- Total number of Deaths due to COVID 2019 across India\n",
    "- remarks , *example* `(*including foreign nationals, as on 19.03.2020 at 05:00 PM)` \n",
    "    - (self created column)\n",
    "    - data as its from source page\n",
    "    - this is parse to extract data and time information\n",
    "\n",
    "Each set of above data is an `observation`"
   ]
  },
  {
   "cell_type": "code",
   "execution_count": 9,
   "metadata": {},
   "outputs": [],
   "source": [
    "# Dictionary for storing set of observations\n",
    "observation = dict()\n",
    "#\n",
    "# Extracting date, time, remakrs\n",
    "meta_info  = section.findAll('p')\n",
    "meta_date_time = meta_info[-1].text     \n",
    "meta_date = re.findall(\"[0-3][0-9][.][0-1][0-9][.]202[0-9]\", meta_date_time)    # DD-MM-YYYY formation\n",
    "meta_time = re.findall(\"[0-9][0-9]:[0-9][0-9] PM\", meta_date_time)              # 12-hours HH:MM AM/PM\n",
    "observation['date'] = meta_date\n",
    "observation['time'] = meta_time\n",
    "observation['remark'] = list()\n",
    "observation['remark'].append(meta_date_time)\n",
    "# print(observation)"
   ]
  },
  {
   "cell_type": "code",
   "execution_count": 125,
   "metadata": {},
   "outputs": [],
   "source": [
    "# Extracting other informations of the META_DATA set\n",
    "meta_info = section.findAll('p')\n",
    "for info in meta_info[:-1]:\n",
    "    col, val = info.text.split(\":\")\n",
    "    observation[col.strip()] = [ int(val.replace(',', '')), ]   # indian number system uses <comma> as separated for lakh,thousands\n",
    "#print(observation)"
   ]
  },
  {
   "cell_type": "code",
   "execution_count": 11,
   "metadata": {},
   "outputs": [],
   "source": [
    "# Loading past observations\n",
    "file_meta = \"covid_meta.csv\"\n",
    "try:\n",
    "    df_meta = pd.read_csv(file_meta)\n",
    "except FileNotFoundError:\n",
    "    print(\"File 'covid_meta.csv' not found. CREATING\")\n",
    "    df_meta = pd.DataFrame()"
   ]
  },
  {
   "cell_type": "code",
   "execution_count": 127,
   "metadata": {},
   "outputs": [],
   "source": [
    "# Appending new observation with old\n",
    "df_tmp = pd.DataFrame(observation)\n",
    "df_meta = df_meta.append(df_tmp, sort=False)\n",
    "df_meta.to_csv(file_meta, index = False)    # Writing to file"
   ]
  },
  {
   "cell_type": "code",
   "execution_count": null,
   "metadata": {},
   "outputs": [],
   "source": [
    "print(\"META FILE: OK\")\n",
    "print(\"PREVIEW\")"
   ]
  },
  {
   "cell_type": "code",
   "execution_count": 12,
   "metadata": {},
   "outputs": [
    {
     "data": {
      "text/html": "<div>\n<style scoped>\n    .dataframe tbody tr th:only-of-type {\n        vertical-align: middle;\n    }\n\n    .dataframe tbody tr th {\n        vertical-align: top;\n    }\n\n    .dataframe thead th {\n        text-align: right;\n    }\n</style>\n<table border=\"1\" class=\"dataframe\">\n  <thead>\n    <tr style=\"text-align: right;\">\n      <th></th>\n      <th></th>\n      <th>remark</th>\n      <th>Total number of passengers screened at airport</th>\n      <th>Total number of Active COVID 2019 cases across India *</th>\n      <th>Total number of Discharged/Cured COVID 2019 cases across India *</th>\n      <th>Total number of Migrated COVID-19 Patient *</th>\n      <th>Total number of Deaths due to COVID 2019 across India *</th>\n    </tr>\n    <tr>\n      <th>date</th>\n      <th>time</th>\n      <th></th>\n      <th></th>\n      <th></th>\n      <th></th>\n      <th></th>\n      <th></th>\n    </tr>\n  </thead>\n  <tbody>\n    <tr>\n      <th rowspan=\"4\" valign=\"top\">19.03.2020</th>\n      <th>05:00 PM</th>\n      <td>(*including foreign nationals, as on 19.03.202...</td>\n      <td>1431734</td>\n      <td>149</td>\n      <td>19</td>\n      <td>1</td>\n      <td>4</td>\n    </tr>\n    <tr>\n      <th>05:00 PM</th>\n      <td>(*including foreign nationals, as on 19.03.202...</td>\n      <td>1431734</td>\n      <td>149</td>\n      <td>19</td>\n      <td>1</td>\n      <td>4</td>\n    </tr>\n    <tr>\n      <th>05:00 PM</th>\n      <td>(*including foreign nationals, as on 19.03.202...</td>\n      <td>1431734</td>\n      <td>149</td>\n      <td>19</td>\n      <td>1</td>\n      <td>4</td>\n    </tr>\n    <tr>\n      <th>05:00 PM</th>\n      <td>(*including foreign nationals, as on 19.03.202...</td>\n      <td>1431734</td>\n      <td>149</td>\n      <td>19</td>\n      <td>1</td>\n      <td>4</td>\n    </tr>\n  </tbody>\n</table>\n</div>",
      "text/plain": "                                                                remark  \\\ndate       time                                                          \n19.03.2020 05:00 PM  (*including foreign nationals, as on 19.03.202...   \n           05:00 PM  (*including foreign nationals, as on 19.03.202...   \n           05:00 PM  (*including foreign nationals, as on 19.03.202...   \n           05:00 PM  (*including foreign nationals, as on 19.03.202...   \n\n                     Total number of passengers screened at airport  \\\ndate       time                                                       \n19.03.2020 05:00 PM                                         1431734   \n           05:00 PM                                         1431734   \n           05:00 PM                                         1431734   \n           05:00 PM                                         1431734   \n\n                     Total number of Active COVID 2019 cases across India *  \\\ndate       time                                                               \n19.03.2020 05:00 PM                                                149        \n           05:00 PM                                                149        \n           05:00 PM                                                149        \n           05:00 PM                                                149        \n\n                     Total number of Discharged/Cured COVID 2019 cases across India *  \\\ndate       time                                                                         \n19.03.2020 05:00 PM                                                 19                  \n           05:00 PM                                                 19                  \n           05:00 PM                                                 19                  \n           05:00 PM                                                 19                  \n\n                     Total number of Migrated COVID-19 Patient *  \\\ndate       time                                                    \n19.03.2020 05:00 PM                                            1   \n           05:00 PM                                            1   \n           05:00 PM                                            1   \n           05:00 PM                                            1   \n\n                     Total number of Deaths due to COVID 2019 across India *  \ndate       time                                                               \n19.03.2020 05:00 PM                                                  4        \n           05:00 PM                                                  4        \n           05:00 PM                                                  4        \n           05:00 PM                                                  4        "
     },
     "execution_count": 12,
     "metadata": {},
     "output_type": "execute_result"
    }
   ],
   "source": [
    "# Preview information\n",
    "\n",
    "df = pd.read_csv(file_meta)\n",
    "df.set_index(['date', 'time'], inplace= True)\n",
    "df.tail()\n"
   ]
  },
  {
   "cell_type": "markdown",
   "execution_count": null,
   "metadata": {},
   "outputs": [],
   "source": [
    "## 2. Extracting state wise information\n",
    "\n",
    "`observations` is a list of `observation` which has the following set of information.\n",
    "\n",
    "1. S.No. \n",
    "2. Name of State / UT\n",
    "3. Total Confirmed cases (Indian National)\n",
    "4. Total Confirmed cases ( Foreign National )\n",
    "5. Cured/Discharged/Migrated\n",
    "2. Death"
   ]
  },
  {
   "cell_type": "code",
   "execution_count": 132,
   "metadata": {},
   "outputs": [],
   "source": [
    "# Getting column names\n",
    "# Elementary check for change in table format\n",
    "header_row = section.findAll('tr')[0]\n",
    "crude_cols = header_row.findAll('th')\n",
    "columns = []\n",
    "for col in crude_cols:\n",
    "    columns.append(col.text.strip())\n",
    "if len(columns) != 6:\n",
    "    print(\"Expected 6 columns, got \", len(columns))\n",
    "    print(\"DATA INTEGRITY MISMATCH, Update Program, Exiting\")\n",
    "    quit()\n",
    "#print(columns)"
   ]
  },
  {
   "cell_type": "code",
   "execution_count": 133,
   "metadata": {},
   "outputs": [],
   "source": [
    "# Extracting each observation and appending to observations\n",
    "rows = section.findAll('tr')\n",
    "observations = []\n",
    "for row in rows[1:-1]:    # 1st or 0th index belongs to header, last row refers to summed info (total)\n",
    "    observation = {}\n",
    "    values = row.text.strip('\\n')\n",
    "    values = values.replace(\",\", '')\n",
    "    values_list  = values.split('\\n')\n",
    "    observation['date'] = meta_date[0]\n",
    "    observation['time'] = meta_time[0]\n",
    "    observation['Name of State / UT'] = str(values_list[1])\n",
    "    observation['Total Confirmed cases (Indian National)'] = int(values_list[2])\n",
    "    observation['Total Confirmed cases ( Foreign National )'] = int(values_list[3])\n",
    "    observation['Cured/Discharged/Migrated'] = int(values_list[4])\n",
    "    observation['Death'] = int(values_list[5])\n",
    "    observations.append(observation)\n",
    "#print(observation)"
   ]
  },
  {
   "cell_type": "markdown",
   "execution_count": null,
   "metadata": {},
   "outputs": [],
   "source": [
    " draw a total day wise results when performing data analysis"
   ]
  },
  {
   "cell_type": "code",
   "execution_count": 13,
   "metadata": {},
   "outputs": [],
   "source": [
    "# Loading past observations\n",
    "file_data = \"covid.csv\"\n",
    "try:\n",
    "    df = pd.read_csv(file_data)\n",
    "except FileNotFoundError:\n",
    "    print(\"File 'covid' not found. CREATING\")\n",
    "    df= pd.DataFrame()"
   ]
  },
  {
   "cell_type": "code",
   "execution_count": 135,
   "metadata": {},
   "outputs": [],
   "source": [
    "# Appending new observation with old\n",
    "df_tmp = pd.DataFrame(observations)\n",
    "df = df.append(df_tmp, sort=False)\n",
    "df.to_csv(file_data, index = False)    # Writing to file"
   ]
  },
  {
   "cell_type": "code",
   "execution_count": null,
   "metadata": {},
   "outputs": [],
   "source": [
    "print(\"DATA : OK\")"
   ]
  },
  {
   "cell_type": "code",
   "execution_count": 24,
   "metadata": {},
   "outputs": [
    {
     "data": {
      "text/html": "<div>\n<style scoped>\n    .dataframe tbody tr th:only-of-type {\n        vertical-align: middle;\n    }\n\n    .dataframe tbody tr th {\n        vertical-align: top;\n    }\n\n    .dataframe thead th {\n        text-align: right;\n    }\n</style>\n<table border=\"1\" class=\"dataframe\">\n  <thead>\n    <tr style=\"text-align: right;\">\n      <th></th>\n      <th></th>\n      <th>Cured/Discharged/Migrated</th>\n      <th>Death</th>\n      <th>Name of State / UT</th>\n      <th>Total Confirmed cases ( Foreign National )</th>\n      <th>Total Confirmed cases (Indian National)</th>\n    </tr>\n    <tr>\n      <th>date</th>\n      <th>time</th>\n      <th></th>\n      <th></th>\n      <th></th>\n      <th></th>\n      <th></th>\n    </tr>\n  </thead>\n  <tbody>\n    <tr>\n      <th rowspan=\"5\" valign=\"top\">19.03.2020</th>\n      <th>05:00 PM</th>\n      <td>0</td>\n      <td>0</td>\n      <td>Union Territory of Jammu and Kashmir</td>\n      <td>0</td>\n      <td>4</td>\n    </tr>\n    <tr>\n      <th>05:00 PM</th>\n      <td>0</td>\n      <td>0</td>\n      <td>Union Territory of Ladakh</td>\n      <td>0</td>\n      <td>8</td>\n    </tr>\n    <tr>\n      <th>05:00 PM</th>\n      <td>9</td>\n      <td>0</td>\n      <td>Uttar Pradesh</td>\n      <td>1</td>\n      <td>18</td>\n    </tr>\n    <tr>\n      <th>05:00 PM</th>\n      <td>0</td>\n      <td>0</td>\n      <td>Uttarakhand</td>\n      <td>0</td>\n      <td>1</td>\n    </tr>\n    <tr>\n      <th>05:00 PM</th>\n      <td>0</td>\n      <td>0</td>\n      <td>West Bengal</td>\n      <td>0</td>\n      <td>1</td>\n    </tr>\n  </tbody>\n</table>\n</div>",
      "text/plain": "                     Cured/Discharged/Migrated  Death  \\\ndate       time                                         \n19.03.2020 05:00 PM                          0      0   \n           05:00 PM                          0      0   \n           05:00 PM                          9      0   \n           05:00 PM                          0      0   \n           05:00 PM                          0      0   \n\n                                       Name of State / UT  \\\ndate       time                                             \n19.03.2020 05:00 PM  Union Territory of Jammu and Kashmir   \n           05:00 PM             Union Territory of Ladakh   \n           05:00 PM                         Uttar Pradesh   \n           05:00 PM                           Uttarakhand   \n           05:00 PM                           West Bengal   \n\n                     Total Confirmed cases ( Foreign National )  \\\ndate       time                                                   \n19.03.2020 05:00 PM                                           0   \n           05:00 PM                                           0   \n           05:00 PM                                           1   \n           05:00 PM                                           0   \n           05:00 PM                                           0   \n\n                     Total Confirmed cases (Indian National)  \ndate       time                                               \n19.03.2020 05:00 PM                                        4  \n           05:00 PM                                        8  \n           05:00 PM                                       18  \n           05:00 PM                                        1  \n           05:00 PM                                        1  "
     },
     "execution_count": 24,
     "metadata": {},
     "output_type": "execute_result"
    }
   ],
   "source": [
    "# Preview information\n",
    "\n",
    "df = pd.read_csv(file_data)\n",
    "df.set_index(['date', 'time'], inplace= True)\n",
    "df.tail()\n",
    "\n"
   ]
  }
 ]
}