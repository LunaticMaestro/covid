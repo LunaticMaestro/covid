{
 "nbformat": 4,
 "nbformat_minor": 2,
 "metadata": {
  "language_info": {
   "name": "python",
   "codemirror_mode": {
    "name": "ipython",
    "version": 3
   },
   "version": "3.7.1-final"
  },
  "orig_nbformat": 2,
  "file_extension": ".py",
  "mimetype": "text/x-python",
  "name": "python",
  "npconvert_exporter": "python",
  "pygments_lexer": "ipython3",
  "version": 3,
  "kernelspec": {
   "name": "python37132bit87964a01f4c74eea89d45e24a640fd63",
   "display_name": "Python 3.7.1 32-bit"
  }
 },
 "cells": [
  {
   "cell_type": "markdown",
   "execution_count": null,
   "metadata": {},
   "outputs": [],
   "source": [
    "# COVID-19 DEATH RATE INDIA\n",
    "\n",
    "This jupyter book tests the bits of the program which ensembles the \n",
    "data from `Ministry of Health & Family Welfare India` for COVID-19 spread summary\n",
    "\n",
    "STANDARDS\n",
    " - Date_Format  `DD-MM-YYYY`\n",
    " \n",
    "VERSION 2.0\n",
    " -  22 MAR 2020\n",
    " - Source site formate changed\n",
    "\n",
    "VERSION 1.0\n",
    " - 19 MAR 2020\n",
    " - Base program\n",
    " - column value hardcoded due to heterogenous data"
   ]
  },
  {
   "cell_type": "code",
   "execution_count": 1,
   "metadata": {},
   "outputs": [],
   "source": [
    "# libraries for the soup\n",
    "import pandas as pd     # creating structured data\n",
    "import requests         # fetching the page containing data\n",
    "import re               # dissecting data\n",
    "from bs4 import BeautifulSoup   # parsing the page to ease data extractioin"
   ]
  },
  {
   "cell_type": "code",
   "execution_count": 2,
   "metadata": {},
   "outputs": [
    {
     "output_type": "stream",
     "name": "stdout",
     "text": "Checking connections ... <Response [200]>\nCONN OK\n"
    }
   ],
   "source": [
    "# checking connections\n",
    "try:\n",
    "    url = \"https://www.mohfw.gov.in/\"\n",
    "    response = requests.get(url)\n",
    "    print(\"Checking connections ...\", response)\n",
    "    if len(re.findall('200', str(response))) != 0:\n",
    "        print(\"CONN OK\")\n",
    "    else: \n",
    "        print(\"CONN ERR\\n EXIT\")\n",
    "        quit()\n",
    "except Exception as e:\n",
    "    print(\"Err Establishing Connection, Check connectivity.\")\n",
    "    quit()\n",
    "# parsing retrieved html with beautiful soup\n",
    "crude_data = BeautifulSoup(response.text, 'html.parser')"
   ]
  },
  {
   "cell_type": "markdown",
   "metadata": {},
   "source": [
    "### META INFO *snapshot*\n",
    "![ref img: /log/screenshots](data_src_22_03_2020.png)\n",
    "\n",
    "### STATE-WISE INFORMAITION *snapshot*\n",
    "![ref img: /log/screenshots](data_src_22_03_2020_2.png)"
   ]
  },
  {
   "cell_type": "markdown",
   "execution_count": null,
   "metadata": {},
   "outputs": [],
   "source": [
    "## 1. Extracting META INFO\n",
    "\n",
    ">each `META_DATA` set:\n",
    "- Total number of passengers screened at airport\n",
    "- Total number of Active COVID 2019 cases across India\n",
    "- Total number of Discharged/Cured COVID 2019 cases across India\n",
    "- Total number of Migrated COVID-19 Patient\n",
    "- Total number of Deaths due to COVID 2019 across India\n",
    "- remarks , *example* `(*including foreign nationals, as on 19.03.2020 at 05:00 PM)` \n",
    "    - (self created column)\n",
    "    - data as its from source page\n",
    "    - this is parse to extract data and time information\n",
    "\n",
    "Each set of above data is an `observation`"
   ]
  },
  {
   "cell_type": "code",
   "execution_count": 21,
   "metadata": {},
   "outputs": [],
   "source": [
    "# Dictionary for storing set of observations\n",
    "observation = dict()"
   ]
  },
  {
   "cell_type": "code",
   "execution_count": 23,
   "metadata": {},
   "outputs": [
    {
     "output_type": "stream",
     "name": "stdout",
     "text": "{'Passengers screened at airport': [1490303], 'Active COVID 2019 cases *': [295], 'Cured/discharged cases': [23], 'Death cases': [5], 'Migrated COVID-19 Patient': [1]}\n"
    }
   ],
   "source": [
    "# Extracting informations of the META_DATA set\n",
    "# Block last inspected date 22-03-2020\n",
    "block = crude_data.findAll('div', attrs = {'class': 'iblock_text'})\n",
    "\n",
    "for row in block:\n",
    "    val = row.find('span').text\n",
    "    col = row.find('div').text\n",
    "    observation[col.strip()] = [ int(val.replace(',', '')), ]   # indian number system uses <comma> as separated for lakh,thousands\n",
    "#print(observation)"
   ]
  },
  {
   "cell_type": "code",
   "execution_count": 30,
   "metadata": {},
   "outputs": [
    {
     "output_type": "stream",
     "name": "stdout",
     "text": "{'Passengers screened at airport': [1490303], 'Active COVID 2019 cases *': [295], 'Cured/discharged cases': [23], 'Death cases': [5], 'Migrated COVID-19 Patient': [1], 'date': ['22.03.2020'], 'time': ['11:45 AM'], 'remark': ['(*including foreign nationals, as on 22.03.2020 at 11:45 AM)']}\n"
    }
   ],
   "source": [
    "# Extracting date, time, remakrs\n",
    "remark = crude_data.find('div', attrs = {'class': 'content newtab'}).find('p').text\n",
    "meta_date = re.findall(\"[0-3][0-9][.][0-1][0-9][.]202[0-9]\", remark)    # DD-MM-YYYY formation\n",
    "meta_time = re.findall(\"[0-9][0-9]:[0-9][0-9] [AP]M\", remark)              # 12-hours HH:MM AM/PM\n",
    "observation['date'] = meta_date\n",
    "observation['time'] = meta_time\n",
    "observation['remark'] = [remark]\n",
    "#print(observation)"
   ]
  },
  {
   "cell_type": "code",
   "execution_count": 31,
   "metadata": {},
   "outputs": [],
   "source": [
    "# Loading past observations\n",
    "file_meta = \"covid_meta.csv\"\n",
    "try:\n",
    "    df_meta = pd.read_csv(file_meta)\n",
    "except FileNotFoundError:\n",
    "    print(\"File 'covid_meta.csv' not found. CREATING\")\n",
    "    df_meta = pd.DataFrame()"
   ]
  },
  {
   "cell_type": "code",
   "execution_count": 32,
   "metadata": {},
   "outputs": [],
   "source": [
    "# Appending new observation with old\n",
    "df_tmp = pd.DataFrame(observation)\n",
    "df_meta = df_meta.append(df_tmp, sort=False)\n",
    "df_meta.to_csv(file_meta, index = False)    # Writing to file"
   ]
  },
  {
   "cell_type": "code",
   "execution_count": null,
   "metadata": {},
   "outputs": [],
   "source": [
    "print(\"META FILE: OK\")\n",
    "print(\"PREVIEW\")"
   ]
  },
  {
   "cell_type": "code",
   "execution_count": 33,
   "metadata": {},
   "outputs": [
    {
     "output_type": "execute_result",
     "data": {
      "text/plain": "                                                                remark  \\\ndate       time                                                          \n20.03.2020 09:00 AM  (*including foreign nationals, as on 20.03.202...   \n           05:00 PM  (*including foreign nationals, as on 20.03.202...   \n21.03.2020 09:00 AM  (*including foreign nationals, as on 21.03.202...   \n           04:45 PM  (*including foreign nationals, as on 21.03.202...   \n22.03.2020 11:45 AM  (*including foreign nationals, as on 22.03.202...   \n\n                     Total number of passengers screened at airport  \\\ndate       time                                                       \n20.03.2020 09:00 AM                                       1431734.0   \n           05:00 PM                                       1459993.0   \n21.03.2020 09:00 AM                                       1459993.0   \n           04:45 PM                                       1490303.0   \n22.03.2020 11:45 AM                                             NaN   \n\n                     Total number of Active COVID 2019 cases across India *  \\\ndate       time                                                               \n20.03.2020 09:00 AM                                              171.0        \n           05:00 PM                                              196.0        \n21.03.2020 09:00 AM                                              231.0        \n           04:45 PM                                              256.0        \n22.03.2020 11:45 AM                                                NaN        \n\n                     Total number of Discharged/Cured COVID 2019 cases across India *  \\\ndate       time                                                                         \n20.03.2020 09:00 AM                                               19.0                  \n           05:00 PM                                               22.0                  \n21.03.2020 09:00 AM                                               22.0                  \n           04:45 PM                                               22.0                  \n22.03.2020 11:45 AM                                                NaN                  \n\n                     Total number of Migrated COVID-19 Patient *  \\\ndate       time                                                    \n20.03.2020 09:00 AM                                          1.0   \n           05:00 PM                                          1.0   \n21.03.2020 09:00 AM                                          1.0   \n           04:45 PM                                          1.0   \n22.03.2020 11:45 AM                                          NaN   \n\n                     Total number of Deaths due to COVID 2019 across India *  \\\ndate       time                                                                \n20.03.2020 09:00 AM                                                4.0         \n           05:00 PM                                                4.0         \n21.03.2020 09:00 AM                                                4.0         \n           04:45 PM                                                4.0         \n22.03.2020 11:45 AM                                                NaN         \n\n                     Passengers screened at airport  \\\ndate       time                                       \n20.03.2020 09:00 AM                             NaN   \n           05:00 PM                             NaN   \n21.03.2020 09:00 AM                             NaN   \n           04:45 PM                             NaN   \n22.03.2020 11:45 AM                       1490303.0   \n\n                     Active COVID 2019 cases *  Cured/discharged cases  \\\ndate       time                                                          \n20.03.2020 09:00 AM                        NaN                     NaN   \n           05:00 PM                        NaN                     NaN   \n21.03.2020 09:00 AM                        NaN                     NaN   \n           04:45 PM                        NaN                     NaN   \n22.03.2020 11:45 AM                      295.0                    23.0   \n\n                     Death cases  Migrated COVID-19 Patient  \ndate       time                                              \n20.03.2020 09:00 AM          NaN                        NaN  \n           05:00 PM          NaN                        NaN  \n21.03.2020 09:00 AM          NaN                        NaN  \n           04:45 PM          NaN                        NaN  \n22.03.2020 11:45 AM          5.0                        1.0  ",
      "text/html": "<div>\n<style scoped>\n    .dataframe tbody tr th:only-of-type {\n        vertical-align: middle;\n    }\n\n    .dataframe tbody tr th {\n        vertical-align: top;\n    }\n\n    .dataframe thead th {\n        text-align: right;\n    }\n</style>\n<table border=\"1\" class=\"dataframe\">\n  <thead>\n    <tr style=\"text-align: right;\">\n      <th></th>\n      <th></th>\n      <th>remark</th>\n      <th>Total number of passengers screened at airport</th>\n      <th>Total number of Active COVID 2019 cases across India *</th>\n      <th>Total number of Discharged/Cured COVID 2019 cases across India *</th>\n      <th>Total number of Migrated COVID-19 Patient *</th>\n      <th>Total number of Deaths due to COVID 2019 across India *</th>\n      <th>Passengers screened at airport</th>\n      <th>Active COVID 2019 cases *</th>\n      <th>Cured/discharged cases</th>\n      <th>Death cases</th>\n      <th>Migrated COVID-19 Patient</th>\n    </tr>\n    <tr>\n      <th>date</th>\n      <th>time</th>\n      <th></th>\n      <th></th>\n      <th></th>\n      <th></th>\n      <th></th>\n      <th></th>\n      <th></th>\n      <th></th>\n      <th></th>\n      <th></th>\n      <th></th>\n    </tr>\n  </thead>\n  <tbody>\n    <tr>\n      <th rowspan=\"2\" valign=\"top\">20.03.2020</th>\n      <th>09:00 AM</th>\n      <td>(*including foreign nationals, as on 20.03.202...</td>\n      <td>1431734.0</td>\n      <td>171.0</td>\n      <td>19.0</td>\n      <td>1.0</td>\n      <td>4.0</td>\n      <td>NaN</td>\n      <td>NaN</td>\n      <td>NaN</td>\n      <td>NaN</td>\n      <td>NaN</td>\n    </tr>\n    <tr>\n      <th>05:00 PM</th>\n      <td>(*including foreign nationals, as on 20.03.202...</td>\n      <td>1459993.0</td>\n      <td>196.0</td>\n      <td>22.0</td>\n      <td>1.0</td>\n      <td>4.0</td>\n      <td>NaN</td>\n      <td>NaN</td>\n      <td>NaN</td>\n      <td>NaN</td>\n      <td>NaN</td>\n    </tr>\n    <tr>\n      <th rowspan=\"2\" valign=\"top\">21.03.2020</th>\n      <th>09:00 AM</th>\n      <td>(*including foreign nationals, as on 21.03.202...</td>\n      <td>1459993.0</td>\n      <td>231.0</td>\n      <td>22.0</td>\n      <td>1.0</td>\n      <td>4.0</td>\n      <td>NaN</td>\n      <td>NaN</td>\n      <td>NaN</td>\n      <td>NaN</td>\n      <td>NaN</td>\n    </tr>\n    <tr>\n      <th>04:45 PM</th>\n      <td>(*including foreign nationals, as on 21.03.202...</td>\n      <td>1490303.0</td>\n      <td>256.0</td>\n      <td>22.0</td>\n      <td>1.0</td>\n      <td>4.0</td>\n      <td>NaN</td>\n      <td>NaN</td>\n      <td>NaN</td>\n      <td>NaN</td>\n      <td>NaN</td>\n    </tr>\n    <tr>\n      <th>22.03.2020</th>\n      <th>11:45 AM</th>\n      <td>(*including foreign nationals, as on 22.03.202...</td>\n      <td>NaN</td>\n      <td>NaN</td>\n      <td>NaN</td>\n      <td>NaN</td>\n      <td>NaN</td>\n      <td>1490303.0</td>\n      <td>295.0</td>\n      <td>23.0</td>\n      <td>5.0</td>\n      <td>1.0</td>\n    </tr>\n  </tbody>\n</table>\n</div>"
     },
     "metadata": {},
     "execution_count": 33
    }
   ],
   "source": [
    "# Preview information\n",
    "\n",
    "df = pd.read_csv(file_meta)\n",
    "df.set_index(['date', 'time'], inplace= True)\n",
    "df.tail()\n",
    ""
   ]
  },
  {
   "cell_type": "markdown",
   "execution_count": null,
   "metadata": {},
   "outputs": [],
   "source": [
    "## 2. Extracting state wise information\n",
    "\n",
    "`observations` is a list of `observation` which has the following set of information.\n",
    "\n",
    "1. S.No. \n",
    "2. Name of State / UT\n",
    "3. Total Confirmed cases (Indian National)\n",
    "4. Total Confirmed cases ( Foreign National )\n",
    "5. Cured/Discharged/Migrated\n",
    "2. Death"
   ]
  },
  {
   "cell_type": "code",
   "execution_count": 37,
   "metadata": {},
   "outputs": [
    {
     "output_type": "execute_result",
     "data": {
      "text/plain": "<tr>\n<td align=\"'centre\" width=\"47\">1</td>\n<td align=\"'centre\" valign=\"bottom\" width=\"83\">Andhra Pradesh</td>\n<td align=\"'centre\" valign=\"bottom\" width=\"91\">3</td>\n<td align=\"'centre\" valign=\"top\" width=\"90\">0</td>\n<td align=\"'centre\" valign=\"top\" width=\"83\">0</td>\n<td align=\"'centre\" valign=\"top\" width=\"83\">0</td>\n</tr>"
     },
     "metadata": {},
     "execution_count": 37
    }
   ],
   "source": [
    "rows = crude_data.find('div', attrs = {'class': 'content newtab'}).findAll('tr')\n",
    "rows[1]"
   ]
  },
  {
   "cell_type": "code",
   "execution_count": 38,
   "metadata": {},
   "outputs": [
    {
     "output_type": "stream",
     "name": "stdout",
     "text": "{'date': '22.03.2020', 'time': '11:45 AM', 'Name of State / UT': 'West Bengal', 'Total Confirmed cases (Indian National)': 4, 'Total Confirmed cases ( Foreign National )': 0, 'Cured/Discharged/Migrated': 0, 'Death': 0}\n"
    }
   ],
   "source": [
    "# Extracting each observation and appending to observations\n",
    "rows = crude_data.find('div', attrs = {'class': 'content newtab'}).findAll('tr')\n",
    "observations = []\n",
    "for row in rows[1:-1]:    # 1st or 0th index belongs to header, last row refers to summed info (total)\n",
    "    observation = {}\n",
    "    values = row.text.strip('\\n')\n",
    "    values = values.replace(\",\", '')\n",
    "    values_list  = values.split('\\n')\n",
    "    observation['date'] = meta_date[0]\n",
    "    observation['time'] = meta_time[0]\n",
    "    observation['Name of State / UT'] = str(values_list[1])\n",
    "    observation['Total Confirmed cases (Indian National)'] = int(values_list[2])\n",
    "    observation['Total Confirmed cases ( Foreign National )'] = int(values_list[3])\n",
    "    observation['Cured/Discharged/Migrated'] = int(values_list[4])\n",
    "    observation['Death'] = int(values_list[5])\n",
    "    observations.append(observation)\n",
    "#print(observation)"
   ]
  },
  {
   "cell_type": "markdown",
   "execution_count": null,
   "metadata": {},
   "outputs": [],
   "source": [
    " draw a total day wise results when performing data analysis"
   ]
  },
  {
   "cell_type": "code",
   "execution_count": 42,
   "metadata": {},
   "outputs": [],
   "source": [
    "# Loading past observations\n",
    "file_data = \"covid.csv\"\n",
    "try:\n",
    "    df = pd.read_csv(file_data)\n",
    "except FileNotFoundError:\n",
    "    print(\"File 'covid' not found. CREATING\")\n",
    "    df= pd.DataFrame()"
   ]
  },
  {
   "cell_type": "code",
   "execution_count": 43,
   "metadata": {},
   "outputs": [],
   "source": [
    "# Appending new observation with old\n",
    "df_tmp = pd.DataFrame(observations)\n",
    "df = df.append(df_tmp, sort=False)\n",
    "df.to_csv(file_data, index = False)    # Writing to file"
   ]
  },
  {
   "cell_type": "code",
   "execution_count": 44,
   "metadata": {},
   "outputs": [
    {
     "output_type": "stream",
     "name": "stdout",
     "text": "DATA : OK\n"
    }
   ],
   "source": [
    "print(\"DATA : OK\")"
   ]
  },
  {
   "cell_type": "code",
   "execution_count": 45,
   "metadata": {},
   "outputs": [
    {
     "output_type": "execute_result",
     "data": {
      "text/plain": "                     Cured/Discharged/Migrated  Death Name of State / UT  \\\ndate       time                                                            \n22.03.2020 11:45 AM                          0      0  Jammu and Kashmir   \n           11:45 AM                          0      0             Ladakh   \n           11:45 AM                          9      0      Uttar Pradesh   \n           11:45 AM                          0      0        Uttarakhand   \n           11:45 AM                          0      0        West Bengal   \n\n                     Total Confirmed cases ( Foreign National )  \\\ndate       time                                                   \n22.03.2020 11:45 AM                                           0   \n           11:45 AM                                           0   \n           11:45 AM                                           1   \n           11:45 AM                                           0   \n           11:45 AM                                           0   \n\n                     Total Confirmed cases (Indian National)  \ndate       time                                               \n22.03.2020 11:45 AM                                        4  \n           11:45 AM                                       13  \n           11:45 AM                                       24  \n           11:45 AM                                        3  \n           11:45 AM                                        4  ",
      "text/html": "<div>\n<style scoped>\n    .dataframe tbody tr th:only-of-type {\n        vertical-align: middle;\n    }\n\n    .dataframe tbody tr th {\n        vertical-align: top;\n    }\n\n    .dataframe thead th {\n        text-align: right;\n    }\n</style>\n<table border=\"1\" class=\"dataframe\">\n  <thead>\n    <tr style=\"text-align: right;\">\n      <th></th>\n      <th></th>\n      <th>Cured/Discharged/Migrated</th>\n      <th>Death</th>\n      <th>Name of State / UT</th>\n      <th>Total Confirmed cases ( Foreign National )</th>\n      <th>Total Confirmed cases (Indian National)</th>\n    </tr>\n    <tr>\n      <th>date</th>\n      <th>time</th>\n      <th></th>\n      <th></th>\n      <th></th>\n      <th></th>\n      <th></th>\n    </tr>\n  </thead>\n  <tbody>\n    <tr>\n      <th rowspan=\"5\" valign=\"top\">22.03.2020</th>\n      <th>11:45 AM</th>\n      <td>0</td>\n      <td>0</td>\n      <td>Jammu and Kashmir</td>\n      <td>0</td>\n      <td>4</td>\n    </tr>\n    <tr>\n      <th>11:45 AM</th>\n      <td>0</td>\n      <td>0</td>\n      <td>Ladakh</td>\n      <td>0</td>\n      <td>13</td>\n    </tr>\n    <tr>\n      <th>11:45 AM</th>\n      <td>9</td>\n      <td>0</td>\n      <td>Uttar Pradesh</td>\n      <td>1</td>\n      <td>24</td>\n    </tr>\n    <tr>\n      <th>11:45 AM</th>\n      <td>0</td>\n      <td>0</td>\n      <td>Uttarakhand</td>\n      <td>0</td>\n      <td>3</td>\n    </tr>\n    <tr>\n      <th>11:45 AM</th>\n      <td>0</td>\n      <td>0</td>\n      <td>West Bengal</td>\n      <td>0</td>\n      <td>4</td>\n    </tr>\n  </tbody>\n</table>\n</div>"
     },
     "metadata": {},
     "execution_count": 45
    }
   ],
   "source": [
    "# Preview information\n",
    "\n",
    "df = pd.read_csv(file_data)\n",
    "df.set_index(['date', 'time'], inplace= True)\n",
    "df.tail()\n",
    "\n",
    ""
   ]
  },
  {
   "cell_type": "code",
   "execution_count": null,
   "metadata": {},
   "outputs": [],
   "source": []
  }
 ]
}