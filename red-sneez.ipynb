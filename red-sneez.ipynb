{
 "nbformat": 4,
 "nbformat_minor": 2,
 "metadata": {
  "language_info": {
   "name": "python",
   "codemirror_mode": {
    "name": "ipython",
    "version": 3
   },
   "version": "3.7.1-final"
  },
  "orig_nbformat": 2,
  "file_extension": ".py",
  "mimetype": "text/x-python",
  "name": "python",
  "npconvert_exporter": "python",
  "pygments_lexer": "ipython3",
  "version": 3,
  "kernelspec": {
   "name": "python37132bit87964a01f4c74eea89d45e24a640fd63",
   "display_name": "Python 3.7.1 32-bit"
  }
 },
 "cells": [
  {
   "cell_type": "markdown",
   "execution_count": null,
   "metadata": {},
   "outputs": [],
   "source": [
    "# COVID-19 DEATH RATE INDIA\n",
    "\n",
    "This jupyter book tests the bits of the program which ensembles the \n",
    "data from `Ministry of Health & Family Welfare India` for COVID-19 spread summary\n",
    "\n",
    "STANDARDS\n",
    " - Date_Format  `DD-MM-YYYY`\n",
    " \n",
    "VERSION 3.0\n",
    "  - 31 MAR 2020\n",
    "  - source site formate changed\n",
    "  - date format changed\n",
    " \n",
    "VERSION 2.0\n",
    " -  22 MAR 2020\n",
    " - Source site formate changed\n",
    "\n",
    "VERSION 1.0\n",
    " - 19 MAR 2020\n",
    " - Base program\n",
    " - column value hardcoded due to heterogenous data"
   ]
  },
  {
   "cell_type": "code",
   "execution_count": 7,
   "metadata": {},
   "outputs": [],
   "source": [
    "# libraries for the soup\n",
    "import pandas as pd     # creating structured data\n",
    "import requests         # fetching the page containing data\n",
    "import re               # dissecting data\n",
    "from bs4 import BeautifulSoup   # parsing the page to ease data extractioin"
   ]
  },
  {
   "cell_type": "code",
   "execution_count": 8,
   "metadata": {},
   "outputs": [
    {
     "output_type": "stream",
     "name": "stdout",
     "text": "Checking connections ... <Response [200]>\nCONN OK\n"
    }
   ],
   "source": [
    "# checking connections\n",
    "try:\n",
    "    url = \"https://www.mohfw.gov.in/\"\n",
    "    response = requests.get(url)\n",
    "    print(\"Checking connections ...\", response)\n",
    "    if len(re.findall('200', str(response))) != 0:\n",
    "        print(\"CONN OK\")\n",
    "    else: \n",
    "        print(\"CONN ERR\\n EXIT\")\n",
    "        quit()\n",
    "except Exception as e:\n",
    "    print(\"Err Establishing Connection, Check connectivity.\")\n",
    "    quit()\n",
    "# parsing retrieved html with beautiful soup\n",
    "crude_data = BeautifulSoup(response.text, 'html.parser')"
   ]
  },
  {
   "cell_type": "markdown",
   "metadata": {},
   "source": [
    "### META INFO *snapshot*\n",
    "![ref img: /log/screenshots](data_src_22_03_2020.png)\n",
    "\n",
    "### STATE-WISE INFORMAITION *snapshot*\n",
    "![ref img: /log/screenshots](data_src_22_03_2020_2.png)"
   ]
  },
  {
   "cell_type": "markdown",
   "execution_count": null,
   "metadata": {},
   "outputs": [],
   "source": [
    "## 1. Extracting META INFO\n",
    "\n",
    ">each `META_DATA` set:\n",
    "- Total number of passengers screened at airport\n",
    "- Total number of Active COVID 2019 cases across India\n",
    "- Total number of Discharged/Cured COVID 2019 cases across India\n",
    "- Total number of Migrated COVID-19 Patient\n",
    "- Total number of Deaths due to COVID 2019 across India\n",
    "- remarks , *example* `(*including foreign nationals, as on 19.03.2020 at 05:00 PM)` \n",
    "    - (self created column)\n",
    "    - data as its from source page\n",
    "    - this is parse to extract data and time information\n",
    "\n",
    "Each set of above data is an `observation`"
   ]
  },
  {
   "cell_type": "code",
   "execution_count": 9,
   "metadata": {},
   "outputs": [],
   "source": [
    "# Dictionary for storing set of observations\n",
    "observation = dict()"
   ]
  },
  {
   "cell_type": "code",
   "execution_count": 10,
   "metadata": {},
   "outputs": [
    {
     "output_type": "stream",
     "name": "stdout",
     "text": "{'date': ['31 March 2020'], 'time': [' 20:30 '], 'remark': ['as on : 31 March 2020, 20:30 GMT+5:30']}\n"
    }
   ],
   "source": [
    "# Extracting date, time, remakrs\n",
    "remark = crude_data.find('div', attrs = {'class': 'status-update'}).find('span').text\n",
    "meta_date = re.findall(\"[0-3][0-9] [a-zA-Z]* 202[0-9]\", remark)    # DD-MM-YYYY formation\n",
    "meta_time = re.findall(\" [0-9][0-9]:[0-9][0-9] \", remark)              # 12-hours HH:MM AM/PM\n",
    "observation['date'] = meta_date\n",
    "observation['time'] = meta_time\n",
    "observation['remark'] = [remark]\n",
    "print(observation)"
   ]
  },
  {
   "cell_type": "code",
   "execution_count": 11,
   "metadata": {},
   "outputs": [
    {
     "output_type": "stream",
     "name": "stdout",
     "text": "{'date': ['31 March 2020'], 'time': [' 20:30 '], 'remark': ['as on : 31 March 2020, 20:30 GMT+5:30'], 'Active Cases': [1238], 'Cured / Discharged': [123], 'Deaths': [35], 'Migrated': [1]}\n"
    }
   ],
   "source": [
    "# Extracting informations of the META_DATA set\n",
    "# Block last inspected date 22-03-2020\n",
    "block = crude_data.find('div', attrs = {'class': 'site-stats-count'}).findAll('li')\n",
    "\n",
    "for row in block[:-1]:\n",
    "    val = row.find('strong').text\n",
    "    col = row.find('span').text\n",
    "    try:\n",
    "        observation[col.strip()] = [ int(val.replace(',', '')), ]   # indian number system uses <comma> as separated for lakh,thousands\n",
    "    except ValueError :\n",
    "        observation[col.strip()] = [ val, ]   # indian number system uses <comma> as separated for lakh,thousands\n",
    "\n",
    "print(observation)"
   ]
  },
  {
   "cell_type": "code",
   "execution_count": 46,
   "metadata": {},
   "outputs": [],
   "source": [
    "# Loading past observations\n",
    "file_meta = \"covid_meta.csv\"\n",
    "try:\n",
    "    df_meta = pd.read_csv(file_meta)\n",
    "except FileNotFoundError:\n",
    "    print(\"File 'covid_meta.csv' not found. CREATING\")\n",
    "    df_meta = pd.DataFrame()"
   ]
  },
  {
   "cell_type": "code",
   "execution_count": 47,
   "metadata": {},
   "outputs": [],
   "source": [
    "# Appending new observation with old\n",
    "df_tmp = pd.DataFrame(observation)\n",
    "df_meta = df_meta.append(df_tmp, sort=False)\n",
    "df_meta.to_csv(file_meta, index = False)    # Writing to file"
   ]
  },
  {
   "cell_type": "code",
   "execution_count": 8,
   "metadata": {},
   "outputs": [
    {
     "output_type": "stream",
     "name": "stdout",
     "text": "META FILE: OK\nPREVIEW\n"
    }
   ],
   "source": [
    "print(\"META FILE: OK\")\n",
    "print(\"PREVIEW\")"
   ]
  },
  {
   "cell_type": "code",
   "execution_count": 48,
   "metadata": {},
   "outputs": [
    {
     "output_type": "execute_result",
     "data": {
      "text/plain": "                                                                   remark  \\\ndate          time                                                          \n29.03.2020    07:30 PM  (*Including 48 foreign Nationals, as on 29.03....   \n30.03.2020    10:30 AM  (*Including 49 foreign Nationals, as on 30.03....   \n              09:30 PM  (*Including 49 foreign Nationals, as on 30.03....   \n              09:30 PM  (*Including 49 foreign Nationals, as on 30.03....   \n31 March 2020  20:30                as on : 31 March 2020, 20:30 GMT+5:30   \n\n                        Total number of passengers screened at airport  \\\ndate          time                                                       \n29.03.2020    07:30 PM                                             NaN   \n30.03.2020    10:30 AM                                             NaN   \n              09:30 PM                                             NaN   \n              09:30 PM                                             NaN   \n31 March 2020  20:30                                               NaN   \n\n                        Total number of Active COVID 2019 cases across India *  \\\ndate          time                                                               \n29.03.2020    07:30 PM                                                NaN        \n30.03.2020    10:30 AM                                                NaN        \n              09:30 PM                                                NaN        \n              09:30 PM                                                NaN        \n31 March 2020  20:30                                                  NaN        \n\n                        Total number of Discharged/Cured COVID 2019 cases across India *  \\\ndate          time                                                                         \n29.03.2020    07:30 PM                                                NaN                  \n30.03.2020    10:30 AM                                                NaN                  \n              09:30 PM                                                NaN                  \n              09:30 PM                                                NaN                  \n31 March 2020  20:30                                                  NaN                  \n\n                        Total number of Migrated COVID-19 Patient *  \\\ndate          time                                                    \n29.03.2020    07:30 PM                                          NaN   \n30.03.2020    10:30 AM                                          NaN   \n              09:30 PM                                          NaN   \n              09:30 PM                                          NaN   \n31 March 2020  20:30                                            NaN   \n\n                        Total number of Deaths due to COVID 2019 across India *  \\\ndate          time                                                                \n29.03.2020    07:30 PM                                                NaN         \n30.03.2020    10:30 AM                                                NaN         \n              09:30 PM                                                NaN         \n              09:30 PM                                                NaN         \n31 March 2020  20:30                                                  NaN         \n\n                        Passengers screened at airport  \\\ndate          time                                       \n29.03.2020    07:30 PM                       1524266.0   \n30.03.2020    10:30 AM                       1524266.0   \n              09:30 PM                       1524266.0   \n              09:30 PM                       1524266.0   \n31 March 2020  20:30                               NaN   \n\n                        Active COVID 2019 cases *  Cured/discharged cases  \\\ndate          time                                                          \n29.03.2020    07:30 PM                      901.0                    95.0   \n30.03.2020    10:30 AM                      942.0                    99.0   \n              09:30 PM                        NaN                   101.0   \n              09:30 PM                        NaN                   101.0   \n31 March 2020  20:30                          NaN                     NaN   \n\n                       Death cases  Migrated COVID-19 Patient  \\\ndate          time                                              \n29.03.2020    07:30 PM          27                        1.0   \n30.03.2020    10:30 AM          29                        1.0   \n              09:30 PM          32                        1.0   \n              09:30 PM          32                        1.0   \n31 March 2020  20:30           NaN                        NaN   \n\n                        Active COVID 2019 cases #  Active Cases  \\\ndate          time                                                \n29.03.2020    07:30 PM                        NaN           NaN   \n30.03.2020    10:30 AM                        NaN           NaN   \n              09:30 PM                     1117.0           NaN   \n              09:30 PM                     1117.0           NaN   \n31 March 2020  20:30                          NaN        1238.0   \n\n                        Cured / Discharged  Deaths  Migrated  \ndate          time                                            \n29.03.2020    07:30 PM                 NaN     NaN       NaN  \n30.03.2020    10:30 AM                 NaN     NaN       NaN  \n              09:30 PM                 NaN     NaN       NaN  \n              09:30 PM                 NaN     NaN       NaN  \n31 March 2020  20:30                 123.0    35.0       1.0  ",
      "text/html": "<div>\n<style scoped>\n    .dataframe tbody tr th:only-of-type {\n        vertical-align: middle;\n    }\n\n    .dataframe tbody tr th {\n        vertical-align: top;\n    }\n\n    .dataframe thead th {\n        text-align: right;\n    }\n</style>\n<table border=\"1\" class=\"dataframe\">\n  <thead>\n    <tr style=\"text-align: right;\">\n      <th></th>\n      <th></th>\n      <th>remark</th>\n      <th>Total number of passengers screened at airport</th>\n      <th>Total number of Active COVID 2019 cases across India *</th>\n      <th>Total number of Discharged/Cured COVID 2019 cases across India *</th>\n      <th>Total number of Migrated COVID-19 Patient *</th>\n      <th>Total number of Deaths due to COVID 2019 across India *</th>\n      <th>Passengers screened at airport</th>\n      <th>Active COVID 2019 cases *</th>\n      <th>Cured/discharged cases</th>\n      <th>Death cases</th>\n      <th>Migrated COVID-19 Patient</th>\n      <th>Active COVID 2019 cases #</th>\n      <th>Active Cases</th>\n      <th>Cured / Discharged</th>\n      <th>Deaths</th>\n      <th>Migrated</th>\n    </tr>\n    <tr>\n      <th>date</th>\n      <th>time</th>\n      <th></th>\n      <th></th>\n      <th></th>\n      <th></th>\n      <th></th>\n      <th></th>\n      <th></th>\n      <th></th>\n      <th></th>\n      <th></th>\n      <th></th>\n      <th></th>\n      <th></th>\n      <th></th>\n      <th></th>\n      <th></th>\n    </tr>\n  </thead>\n  <tbody>\n    <tr>\n      <th>29.03.2020</th>\n      <th>07:30 PM</th>\n      <td>(*Including 48 foreign Nationals, as on 29.03....</td>\n      <td>NaN</td>\n      <td>NaN</td>\n      <td>NaN</td>\n      <td>NaN</td>\n      <td>NaN</td>\n      <td>1524266.0</td>\n      <td>901.0</td>\n      <td>95.0</td>\n      <td>27</td>\n      <td>1.0</td>\n      <td>NaN</td>\n      <td>NaN</td>\n      <td>NaN</td>\n      <td>NaN</td>\n      <td>NaN</td>\n    </tr>\n    <tr>\n      <th rowspan=\"3\" valign=\"top\">30.03.2020</th>\n      <th>10:30 AM</th>\n      <td>(*Including 49 foreign Nationals, as on 30.03....</td>\n      <td>NaN</td>\n      <td>NaN</td>\n      <td>NaN</td>\n      <td>NaN</td>\n      <td>NaN</td>\n      <td>1524266.0</td>\n      <td>942.0</td>\n      <td>99.0</td>\n      <td>29</td>\n      <td>1.0</td>\n      <td>NaN</td>\n      <td>NaN</td>\n      <td>NaN</td>\n      <td>NaN</td>\n      <td>NaN</td>\n    </tr>\n    <tr>\n      <th>09:30 PM</th>\n      <td>(*Including 49 foreign Nationals, as on 30.03....</td>\n      <td>NaN</td>\n      <td>NaN</td>\n      <td>NaN</td>\n      <td>NaN</td>\n      <td>NaN</td>\n      <td>1524266.0</td>\n      <td>NaN</td>\n      <td>101.0</td>\n      <td>32</td>\n      <td>1.0</td>\n      <td>1117.0</td>\n      <td>NaN</td>\n      <td>NaN</td>\n      <td>NaN</td>\n      <td>NaN</td>\n    </tr>\n    <tr>\n      <th>09:30 PM</th>\n      <td>(*Including 49 foreign Nationals, as on 30.03....</td>\n      <td>NaN</td>\n      <td>NaN</td>\n      <td>NaN</td>\n      <td>NaN</td>\n      <td>NaN</td>\n      <td>1524266.0</td>\n      <td>NaN</td>\n      <td>101.0</td>\n      <td>32</td>\n      <td>1.0</td>\n      <td>1117.0</td>\n      <td>NaN</td>\n      <td>NaN</td>\n      <td>NaN</td>\n      <td>NaN</td>\n    </tr>\n    <tr>\n      <th>31 March 2020</th>\n      <th>20:30</th>\n      <td>as on : 31 March 2020, 20:30 GMT+5:30</td>\n      <td>NaN</td>\n      <td>NaN</td>\n      <td>NaN</td>\n      <td>NaN</td>\n      <td>NaN</td>\n      <td>NaN</td>\n      <td>NaN</td>\n      <td>NaN</td>\n      <td>NaN</td>\n      <td>NaN</td>\n      <td>NaN</td>\n      <td>1238.0</td>\n      <td>123.0</td>\n      <td>35.0</td>\n      <td>1.0</td>\n    </tr>\n  </tbody>\n</table>\n</div>"
     },
     "metadata": {},
     "execution_count": 48
    }
   ],
   "source": [
    "# Preview information\n",
    "\n",
    "df = pd.read_csv(file_meta)\n",
    "df.set_index(['date', 'time'], inplace= True)\n",
    "df.tail()\n",
    ""
   ]
  },
  {
   "cell_type": "markdown",
   "execution_count": null,
   "metadata": {},
   "outputs": [],
   "source": [
    "## 2. Extracting state wise information\n",
    "\n",
    "`observations` is a list of `observation` which has the following set of information.\n",
    "\n",
    "1. S.No. \n",
    "2. Name of State / UT\n",
    "3. Total Confirmed cases (Indian National)\n",
    "4. Total Confirmed cases ( Foreign National )\n",
    "5. Cured/Discharged/Migrated\n",
    "2. Death"
   ]
  },
  {
   "cell_type": "code",
   "execution_count": 12,
   "metadata": {},
   "outputs": [
    {
     "output_type": "stream",
     "name": "stdout",
     "text": "{'date': '31 March 2020', 'time': ' 20:30 ', 'Name of State / UT': '1397#', 'Total Confirmed cases (Indian National)': '', 'Cured/Discharged/Migrated': '124', 'Death': ''}\n"
    }
   ],
   "source": [
    "# Extracting each observation and appending to observations\n",
    "rows = crude_data.find('section', attrs= {'id': 'state-data'}).find('table', attrs = {'class': 'table table-striped'}).findAll('tr')\n",
    "rows[1]\n",
    "observations = []\n",
    "for row in rows[1:-1]:    # 1st or 0th index belongs to header, last row refers to summed info (total)\n",
    "    observation = {}\n",
    "    values = row.text.strip('\\n')\n",
    "    values = values.replace(\",\", '')\n",
    "    values_list  = values.split('\\n')\n",
    "    observation['date'] = meta_date[0]\n",
    "    observation['time'] = meta_time[0]\n",
    "    observation['Name of State / UT'] = str(values_list[1])\n",
    "    observation['Total Confirmed cases (Indian National)'] = (values_list[2])\n",
    "    observation['Cured/Discharged/Migrated'] = (values_list[3])\n",
    "    observation['Death'] = (values_list[4])\n",
    "    observations.append(observation)\n",
    "print(observation)"
   ]
  },
  {
   "cell_type": "markdown",
   "execution_count": null,
   "metadata": {},
   "outputs": [],
   "source": [
    " draw a total day wise results when performing data analysis"
   ]
  },
  {
   "cell_type": "code",
   "execution_count": 13,
   "metadata": {},
   "outputs": [],
   "source": [
    "# Loading past observations\n",
    "file_data = \"covid.csv\"\n",
    "try:\n",
    "    df = pd.read_csv(file_data)\n",
    "except FileNotFoundError:\n",
    "    print(\"File 'covid' not found. CREATING\")\n",
    "    df= pd.DataFrame()"
   ]
  },
  {
   "cell_type": "code",
   "execution_count": 14,
   "metadata": {},
   "outputs": [],
   "source": [
    "# Appending new observation with old\n",
    "df_tmp = pd.DataFrame(observations)\n",
    "df = df.append(df_tmp, sort=False)\n",
    "df.to_csv(file_data, index = False)    # Writing to file"
   ]
  },
  {
   "cell_type": "code",
   "execution_count": 14,
   "metadata": {},
   "outputs": [
    {
     "output_type": "stream",
     "name": "stdout",
     "text": "DATA : OK\n"
    }
   ],
   "source": [
    "print(\"DATA : OK\")"
   ]
  },
  {
   "cell_type": "code",
   "execution_count": 15,
   "metadata": {},
   "outputs": [
    {
     "output_type": "execute_result",
     "data": {
      "text/plain": "                       Cured/Discharged/Migrated Death Name of State / UT  \\\ndate          time                                                          \n31 March 2020  20:30                         1.0     1          Telengana   \n               20:30                         2.0     0        Uttarakhand   \n               20:30                        14.0     0      Uttar Pradesh   \n               20:30                         0.0     2        West Bengal   \n               20:30                       124.0   NaN              1397#   \n\n                       Total Confirmed cases ( Foreign National )  \\\ndate          time                                                  \n31 March 2020  20:30                                          NaN   \n               20:30                                          NaN   \n               20:30                                          NaN   \n               20:30                                          NaN   \n               20:30                                          NaN   \n\n                       Total Confirmed cases (Indian National)  \ndate          time                                              \n31 March 2020  20:30                                      79.0  \n               20:30                                       7.0  \n               20:30                                     101.0  \n               20:30                                      26.0  \n               20:30                                       NaN  ",
      "text/html": "<div>\n<style scoped>\n    .dataframe tbody tr th:only-of-type {\n        vertical-align: middle;\n    }\n\n    .dataframe tbody tr th {\n        vertical-align: top;\n    }\n\n    .dataframe thead th {\n        text-align: right;\n    }\n</style>\n<table border=\"1\" class=\"dataframe\">\n  <thead>\n    <tr style=\"text-align: right;\">\n      <th></th>\n      <th></th>\n      <th>Cured/Discharged/Migrated</th>\n      <th>Death</th>\n      <th>Name of State / UT</th>\n      <th>Total Confirmed cases ( Foreign National )</th>\n      <th>Total Confirmed cases (Indian National)</th>\n    </tr>\n    <tr>\n      <th>date</th>\n      <th>time</th>\n      <th></th>\n      <th></th>\n      <th></th>\n      <th></th>\n      <th></th>\n    </tr>\n  </thead>\n  <tbody>\n    <tr>\n      <th rowspan=\"5\" valign=\"top\">31 March 2020</th>\n      <th>20:30</th>\n      <td>1.0</td>\n      <td>1</td>\n      <td>Telengana</td>\n      <td>NaN</td>\n      <td>79.0</td>\n    </tr>\n    <tr>\n      <th>20:30</th>\n      <td>2.0</td>\n      <td>0</td>\n      <td>Uttarakhand</td>\n      <td>NaN</td>\n      <td>7.0</td>\n    </tr>\n    <tr>\n      <th>20:30</th>\n      <td>14.0</td>\n      <td>0</td>\n      <td>Uttar Pradesh</td>\n      <td>NaN</td>\n      <td>101.0</td>\n    </tr>\n    <tr>\n      <th>20:30</th>\n      <td>0.0</td>\n      <td>2</td>\n      <td>West Bengal</td>\n      <td>NaN</td>\n      <td>26.0</td>\n    </tr>\n    <tr>\n      <th>20:30</th>\n      <td>124.0</td>\n      <td>NaN</td>\n      <td>1397#</td>\n      <td>NaN</td>\n      <td>NaN</td>\n    </tr>\n  </tbody>\n</table>\n</div>"
     },
     "metadata": {},
     "execution_count": 15
    }
   ],
   "source": [
    "# Preview information\n",
    "\n",
    "df = pd.read_csv(file_data)\n",
    "df.set_index(['date', 'time'], inplace= True)\n",
    "df.tail()\n",
    "\n",
    ""
   ]
  },
  {
   "cell_type": "code",
   "execution_count": null,
   "metadata": {},
   "outputs": [],
   "source": []
  }
 ]
}